{
 "cells": [
  {
   "cell_type": "code",
   "execution_count": 1,
   "id": "forty-recognition",
   "metadata": {},
   "outputs": [],
   "source": [
    "from IPython.display import clear_output\n",
    "from gpiozero import PWMLED, LED\n",
    "import time"
   ]
  },
  {
   "cell_type": "code",
   "execution_count": 2,
   "id": "front-elevation",
   "metadata": {},
   "outputs": [],
   "source": [
    "led = LED(2)"
   ]
  },
  {
   "cell_type": "code",
   "execution_count": 3,
   "id": "popular-murder",
   "metadata": {},
   "outputs": [],
   "source": [
    "# blink automatically\n",
    "led.blink(.02,.02)"
   ]
  },
  {
   "cell_type": "code",
   "execution_count": 7,
   "id": "inappropriate-miracle",
   "metadata": {},
   "outputs": [],
   "source": [
    "# blink manually, cancels blink()\n",
    "while True:\n",
    "    led.on()\n",
    "    time.sleep(0.1)\n",
    "    led.off()\n",
    "    time.sleep(0.1)"
   ]
  },
  {
   "cell_type": "code",
   "execution_count": 8,
   "id": "rolled-quality",
   "metadata": {},
   "outputs": [],
   "source": [
    "led.close() # before switching to PWM"
   ]
  },
  {
   "cell_type": "code",
   "execution_count": 9,
   "id": "excess-humanitarian",
   "metadata": {},
   "outputs": [],
   "source": [
    "# PWM\n",
    "led = PWMLED(2)\n",
    "led.pulse(0.1,0)"
   ]
  }
 ],
 "metadata": {
  "kernelspec": {
   "display_name": "Python 3",
   "language": "python",
   "name": "python3"
  },
  "language_info": {
   "codemirror_mode": {
    "name": "ipython",
    "version": 3
   },
   "file_extension": ".py",
   "mimetype": "text/x-python",
   "name": "python",
   "nbconvert_exporter": "python",
   "pygments_lexer": "ipython3",
   "version": "3.8.5"
  }
 },
 "nbformat": 4,
 "nbformat_minor": 5
}
