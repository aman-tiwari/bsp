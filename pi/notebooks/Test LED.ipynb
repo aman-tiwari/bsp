{
 "cells": [
  {
   "cell_type": "code",
   "execution_count": 1,
   "id": "professional-pierre",
   "metadata": {},
   "outputs": [],
   "source": [
    "from IPython.display import clear_output\n",
    "from gpiozero import PWMLED, LED\n",
    "import time"
   ]
  },
  {
   "cell_type": "code",
   "execution_count": 4,
   "id": "wound-kenya",
   "metadata": {},
   "outputs": [],
   "source": [
    "led = LED(4)"
   ]
  },
  {
   "cell_type": "code",
   "execution_count": 19,
   "id": "detailed-current",
   "metadata": {},
   "outputs": [],
   "source": [
    "# blink automatically\n",
    "led.blink(.05,.5)"
   ]
  },
  {
   "cell_type": "code",
   "execution_count": 7,
   "id": "muslim-pension",
   "metadata": {},
   "outputs": [],
   "source": [
    "# blink manually, cancels blink()\n",
    "while True:\n",
    "    led.on()\n",
    "    time.sleep(0.1)\n",
    "    led.off()\n",
    "    time.sleep(0.1)"
   ]
  },
  {
   "cell_type": "code",
   "execution_count": 8,
   "id": "billion-bathroom",
   "metadata": {},
   "outputs": [],
   "source": [
    "led.close() # before switching to PWM"
   ]
  },
  {
   "cell_type": "code",
   "execution_count": 9,
   "id": "muslim-impossible",
   "metadata": {},
   "outputs": [],
   "source": [
    "# PWM\n",
    "led = PWMLED(4, initial_value=0.1)\n",
    "# led.pulse(0.5,0.5)"
   ]
  },
  {
   "cell_type": "code",
   "execution_count": 10,
   "id": "polar-grammar",
   "metadata": {},
   "outputs": [],
   "source": [
    "led.close()"
   ]
  },
  {
   "cell_type": "code",
   "execution_count": null,
   "id": "falling-progressive",
   "metadata": {},
   "outputs": [],
   "source": []
  }
 ],
 "metadata": {
  "kernelspec": {
   "display_name": "Python 3",
   "language": "python",
   "name": "python3"
  },
  "language_info": {
   "codemirror_mode": {
    "name": "ipython",
    "version": 3
   },
   "file_extension": ".py",
   "mimetype": "text/x-python",
   "name": "python",
   "nbconvert_exporter": "python",
   "pygments_lexer": "ipython3",
   "version": "3.8.5"
  }
 },
 "nbformat": 4,
 "nbformat_minor": 5
}
