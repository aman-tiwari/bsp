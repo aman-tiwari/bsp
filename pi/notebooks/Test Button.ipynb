{
 "cells": [
  {
   "cell_type": "code",
   "execution_count": 1,
   "id": "naked-savings",
   "metadata": {},
   "outputs": [],
   "source": [
    "from IPython.display import clear_output\n",
    "import time\n",
    "\n",
    "pin = 3"
   ]
  },
  {
   "cell_type": "code",
   "execution_count": 3,
   "id": "antique-express",
   "metadata": {},
   "outputs": [],
   "source": [
    "# Using RPi.GPIO\n",
    "import RPi.GPIO as GPIO\n",
    "\n",
    "GPIO.setmode(GPIO.BCM)\n",
    "GPIO.setup(pin, GPIO.IN)\n",
    "while True:\n",
    "    clear_output(wait=True)\n",
    "    print(GPIO.input(pin)) # prints 1 (high) 0 (low)\n",
    "    time.sleep(0.1)"
   ]
  },
  {
   "cell_type": "code",
   "execution_count": 4,
   "id": "checked-opera",
   "metadata": {},
   "outputs": [],
   "source": [
    "# using gpiozero\n",
    "from gpiozero import InputDevice\n",
    "button = InputDevice(pin, pull_up=True)\n",
    "while True:\n",
    "    clear_output(wait=True)\n",
    "    print(button.is_active) # prints False (high) True (low)\n",
    "    time.sleep(0.1)"
   ]
  }
 ],
 "metadata": {
  "kernelspec": {
   "display_name": "Python 3",
   "language": "python",
   "name": "python3"
  },
  "language_info": {
   "codemirror_mode": {
    "name": "ipython",
    "version": 3
   },
   "file_extension": ".py",
   "mimetype": "text/x-python",
   "name": "python",
   "nbconvert_exporter": "python",
   "pygments_lexer": "ipython3",
   "version": "3.8.5"
  }
 },
 "nbformat": 4,
 "nbformat_minor": 5
}
