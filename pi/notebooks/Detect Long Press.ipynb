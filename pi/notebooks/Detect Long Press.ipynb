{
 "cells": [
  {
   "cell_type": "code",
   "execution_count": 1,
   "id": "moral-prior",
   "metadata": {},
   "outputs": [],
   "source": [
    "from IPython.display import clear_output\n",
    "import time\n",
    "import datetime\n",
    "from gpiozero import InputDevice\n",
    "\n",
    "pin = 3\n",
    "button = InputDevice(pin, pull_up=True)"
   ]
  },
  {
   "cell_type": "code",
   "execution_count": 2,
   "id": "equivalent-tension",
   "metadata": {},
   "outputs": [],
   "source": [
    "def button_press(now):\n",
    "    print(now, 'press')\n",
    "    \n",
    "def button_hold(now, seconds):\n",
    "    if seconds > 3:\n",
    "        print(now, 'hold', seconds)\n",
    "    \n",
    "def button_release(now, seconds):\n",
    "    print(now, 'release', seconds)\n",
    "\n",
    "last_active = False\n",
    "last_press = None\n",
    "while True:\n",
    "    cur_active = button.is_active\n",
    "    now = datetime.datetime.now()\n",
    "    if cur_active and not last_active:\n",
    "        last_press = now\n",
    "        button_press(now)\n",
    "    if cur_active: \n",
    "        duration = now - last_press\n",
    "        button_hold(now, duration.total_seconds())\n",
    "    if not cur_active and last_active:\n",
    "        duration = now - last_press\n",
    "        button_release(now, duration.total_seconds())\n",
    "    last_active = cur_active\n",
    "    time.sleep(1/60)"
   ]
  }
 ],
 "metadata": {
  "kernelspec": {
   "display_name": "Python 3",
   "language": "python",
   "name": "python3"
  },
  "language_info": {
   "codemirror_mode": {
    "name": "ipython",
    "version": 3
   },
   "file_extension": ".py",
   "mimetype": "text/x-python",
   "name": "python",
   "nbconvert_exporter": "python",
   "pygments_lexer": "ipython3",
   "version": "3.8.5"
  }
 },
 "nbformat": 4,
 "nbformat_minor": 5
}
