{
 "cells": [
  {
   "cell_type": "code",
   "execution_count": 1,
   "id": "liberal-sweet",
   "metadata": {},
   "outputs": [],
   "source": [
    "from IPython.display import clear_output\n",
    "from gpiozero import PWMLED, LED\n",
    "import time"
   ]
  },
  {
   "cell_type": "code",
   "execution_count": 2,
   "id": "latest-persian",
   "metadata": {},
   "outputs": [],
   "source": [
    "led = LED(4)"
   ]
  },
  {
   "cell_type": "code",
   "execution_count": 5,
   "id": "confident-desperate",
   "metadata": {},
   "outputs": [],
   "source": [
    "# blink automatically\n",
    "led.blink(.02,.02)"
   ]
  },
  {
   "cell_type": "code",
   "execution_count": 7,
   "id": "successful-doctrine",
   "metadata": {},
   "outputs": [],
   "source": [
    "# blink manually, cancels blink()\n",
    "while True:\n",
    "    led.on()\n",
    "    time.sleep(0.1)\n",
    "    led.off()\n",
    "    time.sleep(0.1)"
   ]
  },
  {
   "cell_type": "code",
   "execution_count": 8,
   "id": "passing-sherman",
   "metadata": {},
   "outputs": [],
   "source": [
    "led.close() # before switching to PWM"
   ]
  },
  {
   "cell_type": "code",
   "execution_count": 9,
   "id": "floppy-memory",
   "metadata": {},
   "outputs": [],
   "source": [
    "# PWM\n",
    "led = PWMLED(4)\n",
    "led.pulse(0.1,0)"
   ]
  }
 ],
 "metadata": {
  "kernelspec": {
   "display_name": "Python 3",
   "language": "python",
   "name": "python3"
  },
  "language_info": {
   "codemirror_mode": {
    "name": "ipython",
    "version": 3
   },
   "file_extension": ".py",
   "mimetype": "text/x-python",
   "name": "python",
   "nbconvert_exporter": "python",
   "pygments_lexer": "ipython3",
   "version": "3.8.5"
  }
 },
 "nbformat": 4,
 "nbformat_minor": 5
}
